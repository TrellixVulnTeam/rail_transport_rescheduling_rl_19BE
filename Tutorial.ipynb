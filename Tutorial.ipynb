{
  "nbformat": 4,
  "nbformat_minor": 0,
  "metadata": {
    "colab": {
      "name": "Tutorial.ipynb",
      "provenance": []
    },
    "kernelspec": {
      "name": "python3",
      "display_name": "Python 3"
    }
  },
  "cells": [
    {
      "cell_type": "markdown",
      "metadata": {
        "id": "8vFBoNZIazHm"
      },
      "source": [
        "# Setup\n",
        "## Enable GPUs for the notebook:\n",
        "- Navigate to Edit→Notebook Settings\n",
        "- Select **GPU** from the Hardware Accelerator drop-down and **Hign-RAM** for Runtime Shape \n",
        "\n",
        "## Clone the repository"
      ]
    },
    {
      "cell_type": "code",
      "metadata": {
        "colab": {
          "base_uri": "https://localhost:8080/"
        },
        "id": "mIy0eM2raxyZ",
        "outputId": "69e073bb-75fd-4b1f-db6e-a08272209e4a"
      },
      "source": [
        "!git clone https://github.com/theresearchai/rail_transport_rescheduling_rl.git\n",
        "%cd rail_transport_rescheduling_rl"
      ],
      "execution_count": 1,
      "outputs": [
        {
          "output_type": "stream",
          "text": [
            "Cloning into 'rail_transport_rescheduling_rl'...\n",
            "remote: Enumerating objects: 103, done.\u001b[K\n",
            "remote: Counting objects: 100% (103/103), done.\u001b[K\n",
            "remote: Compressing objects: 100% (64/64), done.\u001b[K\n",
            "remote: Total 4262 (delta 66), reused 69 (delta 39), pack-reused 4159\u001b[K\n",
            "Receiving objects: 100% (4262/4262), 233.27 MiB | 25.36 MiB/s, done.\n",
            "Resolving deltas: 100% (1925/1925), done.\n",
            "Checking out files: 100% (4044/4044), done.\n",
            "/content/rail_transport_rescheduling_rl\n"
          ],
          "name": "stdout"
        }
      ]
    },
    {
      "cell_type": "markdown",
      "metadata": {
        "id": "QaCe4yqavOFz"
      },
      "source": [
        "## Login W&B\n",
        "If you don't have an account, sign up at https://wandb.ai/site. \n",
        "\n",
        "Follow the instruction and copy your API key to terminal."
      ]
    },
    {
      "cell_type": "code",
      "metadata": {
        "id": "IIS_KuCxvNzU"
      },
      "source": [
        "!pip install wandb --upgrade \n",
        "!wandb login"
      ],
      "execution_count": null,
      "outputs": []
    },
    {
      "cell_type": "markdown",
      "metadata": {
        "id": "nXkhmdYywFyd"
      },
      "source": [
        "# Connect Google Drive\n",
        "This step is optional but it is the easiest way to automatically save all the temporary files created in this project.\n",
        "\n",
        "Follow the instruction and copy your API key to terminal. The address of your drive would be `/content/gdrive`"
      ]
    },
    {
      "cell_type": "code",
      "metadata": {
        "id": "JBtIwQdswFAh"
      },
      "source": [
        "from google.colab import drive\n",
        "drive.mount('/content/gdrive')"
      ],
      "execution_count": null,
      "outputs": []
    },
    {
      "cell_type": "markdown",
      "metadata": {
        "id": "MXf8OE5ite3i"
      },
      "source": [
        "## Install packages"
      ]
    },
    {
      "cell_type": "code",
      "metadata": {
        "id": "wYNeoRWMtd4B"
      },
      "source": [
        "!pip install -r gpu_envs.txt"
      ],
      "execution_count": null,
      "outputs": []
    },
    {
      "cell_type": "markdown",
      "metadata": {
        "id": "_ooUH_nExnrr"
      },
      "source": [
        "# Train Models\n",
        "\n",
        "Simply run `!python train.py -f config.yaml` to train a model with the configuration file name `config.yaml` or [common parameters](https://docs.ray.io/en/master/rllib-training.html#common-parameters) used by RLlib.\n",
        "All configuration files to run the experiments can be found in `/content/rail_transport_rescheduling_rl/baselines`.\n",
        "\n",
        "Colab only provides 1 GPU and 4 CPUs in the **High-RAM** mode so we need to config in the following way.\n",
        "```yaml\n",
        "config:\n",
        "  num_workers: 3\n",
        "  num_gpus: 1\n",
        "```\n",
        "\n",
        "Here are some examples of training using the [RLlib Baselines](https://flatland.aicrowd.com/research/baselines.html)."
      ]
    },
    {
      "cell_type": "markdown",
      "metadata": {
        "id": "BuwkbPJwynwq"
      },
      "source": [
        "### APEX"
      ]
    },
    {
      "cell_type": "code",
      "metadata": {
        "id": "byd1J3E1yIT4"
      },
      "source": [
        "!python train.py -f baselines/action_masking_and_skipping/apex_tree_obs_small_v0.yaml #APEX"
      ],
      "execution_count": null,
      "outputs": []
    },
    {
      "cell_type": "code",
      "metadata": {
        "id": "4su1Jodm0Gyw"
      },
      "source": [
        "!python train.py -f baselines/action_masking_and_skipping/ppo_tree_obs_small_v0_skip.yaml #APEX + Frame Skipping"
      ],
      "execution_count": null,
      "outputs": []
    },
    {
      "cell_type": "markdown",
      "metadata": {
        "id": "hxOJwu1-yqps"
      },
      "source": [
        "###PPO"
      ]
    },
    {
      "cell_type": "code",
      "metadata": {
        "id": "xJZRAgGg0OrS"
      },
      "source": [
        "!python train.py -f baselines/action_masking_and_skipping/ppo_tree_obs_small_v0.yaml #PPO"
      ],
      "execution_count": null,
      "outputs": []
    },
    {
      "cell_type": "code",
      "metadata": {
        "id": "yZw3i6nQyrOK"
      },
      "source": [
        "!python train.py -f /content/rail_transport_rescheduling_rl/baselines/ccppo_tree_obs/ccppo.yaml  #Centralized Critic PPO"
      ],
      "execution_count": null,
      "outputs": []
    },
    {
      "cell_type": "code",
      "metadata": {
        "id": "mdjzwBdM0ZNS"
      },
      "source": [
        "!python train.py -f baselines/action_masking_and_skipping/ppo_tree_obs_small_v0_skip.yaml #PPO + Frame Skipping"
      ],
      "execution_count": null,
      "outputs": []
    },
    {
      "cell_type": "code",
      "metadata": {
        "id": "gVu8v5n30enR"
      },
      "source": [
        "!python train.py -f baselines/action_masking_and_skipping/ppo_tree_obs_small_v0_mask.yaml #PPO + Action Masking"
      ],
      "execution_count": null,
      "outputs": []
    },
    {
      "cell_type": "markdown",
      "metadata": {
        "id": "4Wfwibt_0o4n"
      },
      "source": [
        "### Imitation Learning"
      ]
    },
    {
      "cell_type": "markdown",
      "metadata": {
        "id": "_rrtC-EY0-vc"
      },
      "source": [
        "1. Download the expert demonstration provided by Flatland and transform to a rllib compatible format. More details can be found [here](https://docs.ray.io/en/releases-0.8.5/rllib-offline.html).\n",
        "\n",
        "  I have already finished this step. \n"
      ]
    },
    {
      "cell_type": "code",
      "metadata": {
        "id": "MTlF5x3Q0zwd"
      },
      "source": [
        "# %%bash\n",
        "# cd imitation_learning/convert_demonstration\n",
        "# wget https://s3.eu-central-1.wasabisys.com/aicrowd-flatland-challenge/expert-demonstrations.tgz\n",
        "# tar zxvf expert-demonstrations.tgz\n",
        "# python saving_experiences.py"
      ],
      "execution_count": null,
      "outputs": []
    },
    {
      "cell_type": "markdown",
      "metadata": {
        "id": "uHZoHGncrUP0"
      },
      "source": [
        "2. Set the folder of converted expert experience as `input` and model `input_files` in the config file.\n",
        "\n",
        "  ``` yaml\n",
        "  congifg:\n",
        "    input: /content/rail_transport_rescheduling_rl/imitation_learning/convert_demonstration/\n",
        "  ```\n",
        "\n",
        "3. Mixed imitation learning requires an sampler ratio parameter that determines the proportion of two algorithms. The following example is a mixed model of 25% IL and 75% APEX.\n",
        " ``` yaml\n",
        "  congifg:\n",
        "    input: \n",
        "      /content/rail_transport_rescheduling_rl/imitation_learning/convert_demonstration/ : 0.25\n",
        "      sampler: 0.75\n",
        "  ```\n"
      ]
    },
    {
      "cell_type": "code",
      "metadata": {
        "id": "FLPNq0pFwlm3"
      },
      "source": [
        "!python ./train.py -f baselines/imitation_learning_tree_obs/marwil_tree_obs_all_beta.yaml #MARWIL\n",
        "\n",
        "# python ./train.py -f baselines/imitation_learning_tree_obs/apex_il_tree_obs_all.yaml #APE-X IMITATION LEARNING (IL)"
      ],
      "execution_count": null,
      "outputs": []
    },
    {
      "cell_type": "code",
      "metadata": {
        "id": "87l9WBT7wtX-"
      },
      "source": [
        "!python ./train.py -f baselines/imitation_learning_tree_obs/apex_il_tree_obs_25.yaml"
      ],
      "execution_count": null,
      "outputs": []
    },
    {
      "cell_type": "code",
      "metadata": {
        "id": "FAWXM4lgw1mL"
      },
      "source": [
        "!python ./train.py -f baselines/imitation_learning_tree_obs/apex_il_tree_obs_75.yaml"
      ],
      "execution_count": null,
      "outputs": []
    },
    {
      "cell_type": "markdown",
      "metadata": {
        "id": "WhEZZA5vyMqp"
      },
      "source": [
        "# Rollout Models\n",
        "\n",
        "`--checkpoint`: path to saved checkpoints\n",
        "\n",
        "`--cfile`: path to rollout map configuration file\n",
        "\n",
        "If no config file, you can also use `--env` and `--config` to set up the rollout environment."
      ]
    },
    {
      "cell_type": "code",
      "metadata": {
        "id": "15XOSuM7yPqQ"
      },
      "source": [
        "!python rollout.py --checkpoint /content/gdrive/MyDrive/checkpoints/apex-tree-obs-small-v0/APEX_flatland_sparse_0_2021-02-12_12-05-12j73wgw9_/checkpoint_500/checkpoint-500 --cfile /content/gdrive/MyDrive/checkpoints/small.yaml --run APEX --episodes 100"
      ],
      "execution_count": null,
      "outputs": []
    },
    {
      "cell_type": "code",
      "metadata": {
        "id": "B7NAapY6zl4W"
      },
      "source": [
        "!python rollout.py --checkpoint /content/gdrive/MyDrive/checkpoints/apex-tree-obs-small-v0/APEX_flatland_sparse_0_2021-02-12_12-05-12j73wgw9_/checkpoint_500/checkpoint-500 --run APEX --episodes 5 --env 'flatland_sparse' --config '{\"env_config\": {\"test\": \"true\", \"generator\": \"sparse_rail_generator\", \"generator_config\": \"small_v0\", \"observation\": \"tree\", \"observation_config\": {\"max_depth\": 2, \"shortest_path_max_depth\": 30}}, \"model\": {\"fcnet_activation\": \"relu\", \"fcnet_hiddens\": [256, 256], \"vf_share_layers\": \"True\"}}' \n"
      ],
      "execution_count": null,
      "outputs": []
    },
    {
      "cell_type": "code",
      "metadata": {
        "id": "lGnHyrz1z6fl"
      },
      "source": [
        ""
      ],
      "execution_count": null,
      "outputs": []
    }
  ]
}